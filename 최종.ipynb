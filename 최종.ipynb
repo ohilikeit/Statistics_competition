{
  "cells": [
    {
      "cell_type": "markdown",
      "metadata": {
        "id": "view-in-github",
        "colab_type": "text"
      },
      "source": [
        "<a href=\"https://colab.research.google.com/github/ohilikeit/Statistics_competition/blob/main/%EC%B5%9C%EC%A2%85.ipynb\" target=\"_parent\"><img src=\"https://colab.research.google.com/assets/colab-badge.svg\" alt=\"Open In Colab\"/></a>"
      ]
    },
    {
      "cell_type": "code",
      "execution_count": null,
      "metadata": {
        "id": "J7vrRKlpWGp6",
        "colab": {
          "base_uri": "https://localhost:8080/"
        },
        "outputId": "a782f03c-1e13-48b7-9c4a-042481f3d2d0"
      },
      "outputs": [
        {
          "output_type": "stream",
          "name": "stdout",
          "text": [
            "Collecting konlpy\n",
            "  Downloading konlpy-0.6.0-py2.py3-none-any.whl (19.4 MB)\n",
            "\u001b[K     |████████████████████████████████| 19.4 MB 367 kB/s \n",
            "\u001b[?25hCollecting JPype1>=0.7.0\n",
            "  Downloading JPype1-1.3.0-cp37-cp37m-manylinux_2_5_x86_64.manylinux1_x86_64.whl (448 kB)\n",
            "\u001b[K     |████████████████████████████████| 448 kB 80.7 MB/s \n",
            "\u001b[?25hRequirement already satisfied: lxml>=4.1.0 in /usr/local/lib/python3.7/dist-packages (from konlpy) (4.2.6)\n",
            "Requirement already satisfied: numpy>=1.6 in /usr/local/lib/python3.7/dist-packages (from konlpy) (1.21.6)\n",
            "Requirement already satisfied: typing-extensions in /usr/local/lib/python3.7/dist-packages (from JPype1>=0.7.0->konlpy) (4.2.0)\n",
            "Installing collected packages: JPype1, konlpy\n",
            "Successfully installed JPype1-1.3.0 konlpy-0.6.0\n"
          ]
        }
      ],
      "source": [
        "!pip install konlpy"
      ]
    },
    {
      "cell_type": "code",
      "source": [
        "%tensorflow_version 2.x\n",
        "import tensorflow as tf\n",
        "print(\"Tensorflow version \" + tf.__version__)\n",
        "\n",
        "try:\n",
        "  tpu = tf.distribute.cluster_resolver.TPUClusterResolver()  # TPU detection\n",
        "  print('Running on TPU ', tpu.cluster_spec().as_dict()['worker'])\n",
        "except ValueError:\n",
        "  raise BaseException('ERROR: Not connected to a TPU runtime; please see the previous cell in this notebook for instructions!')\n",
        "\n",
        "tf.config.experimental_connect_to_cluster(tpu)\n",
        "tf.tpu.experimental.initialize_tpu_system(tpu)\n",
        "tpu_strategy = tf.distribute.experimental.TPUStrategy(tpu)"
      ],
      "metadata": {
        "id": "yZaXg2bmItIZ",
        "colab": {
          "base_uri": "https://localhost:8080/"
        },
        "outputId": "6daed378-4395-4658-f3b6-6f14ff633285"
      },
      "execution_count": null,
      "outputs": [
        {
          "output_type": "stream",
          "name": "stdout",
          "text": [
            "Tensorflow version 2.8.0\n",
            "Running on TPU  ['10.30.254.90:8470']\n",
            "INFO:tensorflow:Deallocate tpu buffers before initializing tpu system.\n"
          ]
        },
        {
          "output_type": "stream",
          "name": "stderr",
          "text": [
            "INFO:tensorflow:Deallocate tpu buffers before initializing tpu system.\n"
          ]
        },
        {
          "output_type": "stream",
          "name": "stdout",
          "text": [
            "INFO:tensorflow:Initializing the TPU system: grpc://10.30.254.90:8470\n"
          ]
        },
        {
          "output_type": "stream",
          "name": "stderr",
          "text": [
            "INFO:tensorflow:Initializing the TPU system: grpc://10.30.254.90:8470\n"
          ]
        },
        {
          "output_type": "stream",
          "name": "stdout",
          "text": [
            "INFO:tensorflow:Finished initializing TPU system.\n"
          ]
        },
        {
          "output_type": "stream",
          "name": "stderr",
          "text": [
            "INFO:tensorflow:Finished initializing TPU system.\n",
            "WARNING:absl:`tf.distribute.experimental.TPUStrategy` is deprecated, please use  the non experimental symbol `tf.distribute.TPUStrategy` instead.\n"
          ]
        },
        {
          "output_type": "stream",
          "name": "stdout",
          "text": [
            "INFO:tensorflow:Found TPU system:\n"
          ]
        },
        {
          "output_type": "stream",
          "name": "stderr",
          "text": [
            "INFO:tensorflow:Found TPU system:\n"
          ]
        },
        {
          "output_type": "stream",
          "name": "stdout",
          "text": [
            "INFO:tensorflow:*** Num TPU Cores: 8\n"
          ]
        },
        {
          "output_type": "stream",
          "name": "stderr",
          "text": [
            "INFO:tensorflow:*** Num TPU Cores: 8\n"
          ]
        },
        {
          "output_type": "stream",
          "name": "stdout",
          "text": [
            "INFO:tensorflow:*** Num TPU Workers: 1\n"
          ]
        },
        {
          "output_type": "stream",
          "name": "stderr",
          "text": [
            "INFO:tensorflow:*** Num TPU Workers: 1\n"
          ]
        },
        {
          "output_type": "stream",
          "name": "stdout",
          "text": [
            "INFO:tensorflow:*** Num TPU Cores Per Worker: 8\n"
          ]
        },
        {
          "output_type": "stream",
          "name": "stderr",
          "text": [
            "INFO:tensorflow:*** Num TPU Cores Per Worker: 8\n"
          ]
        },
        {
          "output_type": "stream",
          "name": "stdout",
          "text": [
            "INFO:tensorflow:*** Available Device: _DeviceAttributes(/job:localhost/replica:0/task:0/device:CPU:0, CPU, 0, 0)\n"
          ]
        },
        {
          "output_type": "stream",
          "name": "stderr",
          "text": [
            "INFO:tensorflow:*** Available Device: _DeviceAttributes(/job:localhost/replica:0/task:0/device:CPU:0, CPU, 0, 0)\n"
          ]
        },
        {
          "output_type": "stream",
          "name": "stdout",
          "text": [
            "INFO:tensorflow:*** Available Device: _DeviceAttributes(/job:worker/replica:0/task:0/device:CPU:0, CPU, 0, 0)\n"
          ]
        },
        {
          "output_type": "stream",
          "name": "stderr",
          "text": [
            "INFO:tensorflow:*** Available Device: _DeviceAttributes(/job:worker/replica:0/task:0/device:CPU:0, CPU, 0, 0)\n"
          ]
        },
        {
          "output_type": "stream",
          "name": "stdout",
          "text": [
            "INFO:tensorflow:*** Available Device: _DeviceAttributes(/job:worker/replica:0/task:0/device:TPU:0, TPU, 0, 0)\n"
          ]
        },
        {
          "output_type": "stream",
          "name": "stderr",
          "text": [
            "INFO:tensorflow:*** Available Device: _DeviceAttributes(/job:worker/replica:0/task:0/device:TPU:0, TPU, 0, 0)\n"
          ]
        },
        {
          "output_type": "stream",
          "name": "stdout",
          "text": [
            "INFO:tensorflow:*** Available Device: _DeviceAttributes(/job:worker/replica:0/task:0/device:TPU:1, TPU, 0, 0)\n"
          ]
        },
        {
          "output_type": "stream",
          "name": "stderr",
          "text": [
            "INFO:tensorflow:*** Available Device: _DeviceAttributes(/job:worker/replica:0/task:0/device:TPU:1, TPU, 0, 0)\n"
          ]
        },
        {
          "output_type": "stream",
          "name": "stdout",
          "text": [
            "INFO:tensorflow:*** Available Device: _DeviceAttributes(/job:worker/replica:0/task:0/device:TPU:2, TPU, 0, 0)\n"
          ]
        },
        {
          "output_type": "stream",
          "name": "stderr",
          "text": [
            "INFO:tensorflow:*** Available Device: _DeviceAttributes(/job:worker/replica:0/task:0/device:TPU:2, TPU, 0, 0)\n"
          ]
        },
        {
          "output_type": "stream",
          "name": "stdout",
          "text": [
            "INFO:tensorflow:*** Available Device: _DeviceAttributes(/job:worker/replica:0/task:0/device:TPU:3, TPU, 0, 0)\n"
          ]
        },
        {
          "output_type": "stream",
          "name": "stderr",
          "text": [
            "INFO:tensorflow:*** Available Device: _DeviceAttributes(/job:worker/replica:0/task:0/device:TPU:3, TPU, 0, 0)\n"
          ]
        },
        {
          "output_type": "stream",
          "name": "stdout",
          "text": [
            "INFO:tensorflow:*** Available Device: _DeviceAttributes(/job:worker/replica:0/task:0/device:TPU:4, TPU, 0, 0)\n"
          ]
        },
        {
          "output_type": "stream",
          "name": "stderr",
          "text": [
            "INFO:tensorflow:*** Available Device: _DeviceAttributes(/job:worker/replica:0/task:0/device:TPU:4, TPU, 0, 0)\n"
          ]
        },
        {
          "output_type": "stream",
          "name": "stdout",
          "text": [
            "INFO:tensorflow:*** Available Device: _DeviceAttributes(/job:worker/replica:0/task:0/device:TPU:5, TPU, 0, 0)\n"
          ]
        },
        {
          "output_type": "stream",
          "name": "stderr",
          "text": [
            "INFO:tensorflow:*** Available Device: _DeviceAttributes(/job:worker/replica:0/task:0/device:TPU:5, TPU, 0, 0)\n"
          ]
        },
        {
          "output_type": "stream",
          "name": "stdout",
          "text": [
            "INFO:tensorflow:*** Available Device: _DeviceAttributes(/job:worker/replica:0/task:0/device:TPU:6, TPU, 0, 0)\n"
          ]
        },
        {
          "output_type": "stream",
          "name": "stderr",
          "text": [
            "INFO:tensorflow:*** Available Device: _DeviceAttributes(/job:worker/replica:0/task:0/device:TPU:6, TPU, 0, 0)\n"
          ]
        },
        {
          "output_type": "stream",
          "name": "stdout",
          "text": [
            "INFO:tensorflow:*** Available Device: _DeviceAttributes(/job:worker/replica:0/task:0/device:TPU:7, TPU, 0, 0)\n"
          ]
        },
        {
          "output_type": "stream",
          "name": "stderr",
          "text": [
            "INFO:tensorflow:*** Available Device: _DeviceAttributes(/job:worker/replica:0/task:0/device:TPU:7, TPU, 0, 0)\n"
          ]
        },
        {
          "output_type": "stream",
          "name": "stdout",
          "text": [
            "INFO:tensorflow:*** Available Device: _DeviceAttributes(/job:worker/replica:0/task:0/device:TPU_SYSTEM:0, TPU_SYSTEM, 0, 0)\n"
          ]
        },
        {
          "output_type": "stream",
          "name": "stderr",
          "text": [
            "INFO:tensorflow:*** Available Device: _DeviceAttributes(/job:worker/replica:0/task:0/device:TPU_SYSTEM:0, TPU_SYSTEM, 0, 0)\n"
          ]
        },
        {
          "output_type": "stream",
          "name": "stdout",
          "text": [
            "INFO:tensorflow:*** Available Device: _DeviceAttributes(/job:worker/replica:0/task:0/device:XLA_CPU:0, XLA_CPU, 0, 0)\n"
          ]
        },
        {
          "output_type": "stream",
          "name": "stderr",
          "text": [
            "INFO:tensorflow:*** Available Device: _DeviceAttributes(/job:worker/replica:0/task:0/device:XLA_CPU:0, XLA_CPU, 0, 0)\n"
          ]
        }
      ]
    },
    {
      "cell_type": "code",
      "source": [
        "from tensorflow.keras.preprocessing.sequence import pad_sequences\n",
        "from tensorflow.keras.callbacks import EarlyStopping, ModelCheckpoint\n",
        "from tensorflow.keras import layers\n",
        "from tensorflow.keras.models import Sequential\n",
        "from tensorflow.keras.layers import Dense \n",
        "from tensorflow.keras.preprocessing.text import Tokenizer\n",
        "from tensorflow.keras import regularizers\n",
        "from keras.layers import Embedding\n",
        "from sklearn.model_selection import train_test_split\n",
        "import matplotlib.pyplot as plt\n",
        "import numpy as np\n",
        "import pandas as pd\n",
        "from tqdm import tqdm\n",
        "import tensorflow as tf\n",
        "from konlpy.tag import Okt\n",
        "import os\n",
        "import json\n",
        "import random\n",
        "import pickle\n",
        "import re\n",
        "SEED_NUM = 42\n",
        "tf.random.set_seed(SEED_NUM)"
      ],
      "metadata": {
        "id": "-PElQ1PhXB-2"
      },
      "execution_count": null,
      "outputs": []
    },
    {
      "cell_type": "markdown",
      "metadata": {
        "id": "X-3bdmUTBN5n"
      },
      "source": [
        "# 1. Data load"
      ]
    },
    {
      "cell_type": "code",
      "execution_count": null,
      "metadata": {
        "id": "T8dSJwYM1VE6",
        "outputId": "e0f519eb-5d90-4aac-8944-61a4101f93ad",
        "colab": {
          "base_uri": "https://localhost:8080/",
          "height": 423
        }
      },
      "outputs": [
        {
          "output_type": "execute_result",
          "data": {
            "text/plain": [
              "       digit_1  digit_2  label                     document\n",
              "0            S       95    952        카센터에서 자동차부분정비 타이어오일교환\n",
              "1            G       47    472      상점내에서 일반인을 대상으로 채소.과일판매\n",
              "2            G       46    467  절단하여사업체에도매 공업용고무를가지고 합성고무도매\n",
              "3            G       47    475         영업점에서 일반소비자에게 열쇠잠금장치\n",
              "4            Q       87    872     어린이집 보호자의 위탁을 받아 취학전아동보육\n",
              "...        ...      ...    ...                          ...\n",
              "999995       C       13    134                제품입고 워싱 청바지워싱\n",
              "999996       F       42    424         현장에서 고객의요청에의해 실내인테리어\n",
              "999997       G       47    474        영업점에서 일반소비자에게 여성의류 판매\n",
              "999998       P       85    856         사업장에서 일반고객을대상으로 필라테스\n",
              "999999       I       56    561    사업장에서 접객시설을 갖추고 한식(미역구)판매\n",
              "\n",
              "[1000000 rows x 4 columns]"
            ],
            "text/html": [
              "\n",
              "  <div id=\"df-0d2fdd07-ac8a-4d8b-9399-46f66c301812\">\n",
              "    <div class=\"colab-df-container\">\n",
              "      <div>\n",
              "<style scoped>\n",
              "    .dataframe tbody tr th:only-of-type {\n",
              "        vertical-align: middle;\n",
              "    }\n",
              "\n",
              "    .dataframe tbody tr th {\n",
              "        vertical-align: top;\n",
              "    }\n",
              "\n",
              "    .dataframe thead th {\n",
              "        text-align: right;\n",
              "    }\n",
              "</style>\n",
              "<table border=\"1\" class=\"dataframe\">\n",
              "  <thead>\n",
              "    <tr style=\"text-align: right;\">\n",
              "      <th></th>\n",
              "      <th>digit_1</th>\n",
              "      <th>digit_2</th>\n",
              "      <th>label</th>\n",
              "      <th>document</th>\n",
              "    </tr>\n",
              "  </thead>\n",
              "  <tbody>\n",
              "    <tr>\n",
              "      <th>0</th>\n",
              "      <td>S</td>\n",
              "      <td>95</td>\n",
              "      <td>952</td>\n",
              "      <td>카센터에서 자동차부분정비 타이어오일교환</td>\n",
              "    </tr>\n",
              "    <tr>\n",
              "      <th>1</th>\n",
              "      <td>G</td>\n",
              "      <td>47</td>\n",
              "      <td>472</td>\n",
              "      <td>상점내에서 일반인을 대상으로 채소.과일판매</td>\n",
              "    </tr>\n",
              "    <tr>\n",
              "      <th>2</th>\n",
              "      <td>G</td>\n",
              "      <td>46</td>\n",
              "      <td>467</td>\n",
              "      <td>절단하여사업체에도매 공업용고무를가지고 합성고무도매</td>\n",
              "    </tr>\n",
              "    <tr>\n",
              "      <th>3</th>\n",
              "      <td>G</td>\n",
              "      <td>47</td>\n",
              "      <td>475</td>\n",
              "      <td>영업점에서 일반소비자에게 열쇠잠금장치</td>\n",
              "    </tr>\n",
              "    <tr>\n",
              "      <th>4</th>\n",
              "      <td>Q</td>\n",
              "      <td>87</td>\n",
              "      <td>872</td>\n",
              "      <td>어린이집 보호자의 위탁을 받아 취학전아동보육</td>\n",
              "    </tr>\n",
              "    <tr>\n",
              "      <th>...</th>\n",
              "      <td>...</td>\n",
              "      <td>...</td>\n",
              "      <td>...</td>\n",
              "      <td>...</td>\n",
              "    </tr>\n",
              "    <tr>\n",
              "      <th>999995</th>\n",
              "      <td>C</td>\n",
              "      <td>13</td>\n",
              "      <td>134</td>\n",
              "      <td>제품입고 워싱 청바지워싱</td>\n",
              "    </tr>\n",
              "    <tr>\n",
              "      <th>999996</th>\n",
              "      <td>F</td>\n",
              "      <td>42</td>\n",
              "      <td>424</td>\n",
              "      <td>현장에서 고객의요청에의해 실내인테리어</td>\n",
              "    </tr>\n",
              "    <tr>\n",
              "      <th>999997</th>\n",
              "      <td>G</td>\n",
              "      <td>47</td>\n",
              "      <td>474</td>\n",
              "      <td>영업점에서 일반소비자에게 여성의류 판매</td>\n",
              "    </tr>\n",
              "    <tr>\n",
              "      <th>999998</th>\n",
              "      <td>P</td>\n",
              "      <td>85</td>\n",
              "      <td>856</td>\n",
              "      <td>사업장에서 일반고객을대상으로 필라테스</td>\n",
              "    </tr>\n",
              "    <tr>\n",
              "      <th>999999</th>\n",
              "      <td>I</td>\n",
              "      <td>56</td>\n",
              "      <td>561</td>\n",
              "      <td>사업장에서 접객시설을 갖추고 한식(미역구)판매</td>\n",
              "    </tr>\n",
              "  </tbody>\n",
              "</table>\n",
              "<p>1000000 rows × 4 columns</p>\n",
              "</div>\n",
              "      <button class=\"colab-df-convert\" onclick=\"convertToInteractive('df-0d2fdd07-ac8a-4d8b-9399-46f66c301812')\"\n",
              "              title=\"Convert this dataframe to an interactive table.\"\n",
              "              style=\"display:none;\">\n",
              "        \n",
              "  <svg xmlns=\"http://www.w3.org/2000/svg\" height=\"24px\"viewBox=\"0 0 24 24\"\n",
              "       width=\"24px\">\n",
              "    <path d=\"M0 0h24v24H0V0z\" fill=\"none\"/>\n",
              "    <path d=\"M18.56 5.44l.94 2.06.94-2.06 2.06-.94-2.06-.94-.94-2.06-.94 2.06-2.06.94zm-11 1L8.5 8.5l.94-2.06 2.06-.94-2.06-.94L8.5 2.5l-.94 2.06-2.06.94zm10 10l.94 2.06.94-2.06 2.06-.94-2.06-.94-.94-2.06-.94 2.06-2.06.94z\"/><path d=\"M17.41 7.96l-1.37-1.37c-.4-.4-.92-.59-1.43-.59-.52 0-1.04.2-1.43.59L10.3 9.45l-7.72 7.72c-.78.78-.78 2.05 0 2.83L4 21.41c.39.39.9.59 1.41.59.51 0 1.02-.2 1.41-.59l7.78-7.78 2.81-2.81c.8-.78.8-2.07 0-2.86zM5.41 20L4 18.59l7.72-7.72 1.47 1.35L5.41 20z\"/>\n",
              "  </svg>\n",
              "      </button>\n",
              "      \n",
              "  <style>\n",
              "    .colab-df-container {\n",
              "      display:flex;\n",
              "      flex-wrap:wrap;\n",
              "      gap: 12px;\n",
              "    }\n",
              "\n",
              "    .colab-df-convert {\n",
              "      background-color: #E8F0FE;\n",
              "      border: none;\n",
              "      border-radius: 50%;\n",
              "      cursor: pointer;\n",
              "      display: none;\n",
              "      fill: #1967D2;\n",
              "      height: 32px;\n",
              "      padding: 0 0 0 0;\n",
              "      width: 32px;\n",
              "    }\n",
              "\n",
              "    .colab-df-convert:hover {\n",
              "      background-color: #E2EBFA;\n",
              "      box-shadow: 0px 1px 2px rgba(60, 64, 67, 0.3), 0px 1px 3px 1px rgba(60, 64, 67, 0.15);\n",
              "      fill: #174EA6;\n",
              "    }\n",
              "\n",
              "    [theme=dark] .colab-df-convert {\n",
              "      background-color: #3B4455;\n",
              "      fill: #D2E3FC;\n",
              "    }\n",
              "\n",
              "    [theme=dark] .colab-df-convert:hover {\n",
              "      background-color: #434B5C;\n",
              "      box-shadow: 0px 1px 3px 1px rgba(0, 0, 0, 0.15);\n",
              "      filter: drop-shadow(0px 1px 2px rgba(0, 0, 0, 0.3));\n",
              "      fill: #FFFFFF;\n",
              "    }\n",
              "  </style>\n",
              "\n",
              "      <script>\n",
              "        const buttonEl =\n",
              "          document.querySelector('#df-0d2fdd07-ac8a-4d8b-9399-46f66c301812 button.colab-df-convert');\n",
              "        buttonEl.style.display =\n",
              "          google.colab.kernel.accessAllowed ? 'block' : 'none';\n",
              "\n",
              "        async function convertToInteractive(key) {\n",
              "          const element = document.querySelector('#df-0d2fdd07-ac8a-4d8b-9399-46f66c301812');\n",
              "          const dataTable =\n",
              "            await google.colab.kernel.invokeFunction('convertToInteractive',\n",
              "                                                     [key], {});\n",
              "          if (!dataTable) return;\n",
              "\n",
              "          const docLinkHtml = 'Like what you see? Visit the ' +\n",
              "            '<a target=\"_blank\" href=https://colab.research.google.com/notebooks/data_table.ipynb>data table notebook</a>'\n",
              "            + ' to learn more about interactive tables.';\n",
              "          element.innerHTML = '';\n",
              "          dataTable['output_type'] = 'display_data';\n",
              "          await google.colab.output.renderOutput(dataTable, element);\n",
              "          const docLink = document.createElement('div');\n",
              "          docLink.innerHTML = docLinkHtml;\n",
              "          element.appendChild(docLink);\n",
              "        }\n",
              "      </script>\n",
              "    </div>\n",
              "  </div>\n",
              "  "
            ]
          },
          "metadata": {},
          "execution_count": 5
        }
      ],
      "source": [
        "raw_data = pd.read_table('/content/drive/MyDrive/StatisticCompetition/train.txt',sep='|', encoding='cp949')\n",
        "submit_data = pd.read_table('/content/drive/MyDrive/StatisticCompetition/2. 모델개발용자료.txt',sep='|', encoding='cp949')\n",
        "\n",
        "def preprocess(raw_data):  # 텍스트를 하나로 합친다. \n",
        "    data = raw_data.copy()\n",
        "    data = data.replace(np.nan, '', regex=True)        # NA가 존재하는 행 없애는 용도\n",
        "    data = data.rename(columns={'digit_3':'label'})    # 타깃 변수명 변경\n",
        "    data['document'] = data['text_obj'] + ' ' + data['text_mthd'] + ' ' + data['text_deal']  \n",
        "    data = data.drop(['text_mthd', 'text_deal', 'text_obj', 'AI_id'], axis=1)\n",
        "\n",
        "    data = data.dropna()\n",
        "    data = data.reset_index(drop=True)\n",
        "\n",
        "    return data\n",
        "\n",
        "data = preprocess(raw_data)\n",
        "submit = preprocess(submit_data)"
      ]
    },
    {
      "cell_type": "markdown",
      "metadata": {
        "id": "OxTB8NGr8Iph"
      },
      "source": [
        "# 2. EDA\n"
      ]
    },
    {
      "cell_type": "code",
      "execution_count": null,
      "metadata": {
        "colab": {
          "base_uri": "https://localhost:8080/",
          "height": 957
        },
        "id": "1qMElTBUf4by",
        "outputId": "2e298a05-5c85-4081-e26f-d5157c0f7c4b"
      },
      "outputs": [
        {
          "output_type": "stream",
          "name": "stderr",
          "text": [
            "/usr/local/lib/python3.7/dist-packages/seaborn/_decorators.py:43: FutureWarning: Pass the following variable as a keyword arg: x. From version 0.12, the only valid positional argument will be `data`, and passing other arguments without an explicit keyword will result in an error or misinterpretation.\n",
            "  FutureWarning\n"
          ]
        },
        {
          "output_type": "execute_result",
          "data": {
            "text/plain": [
              "<matplotlib.axes._subplots.AxesSubplot at 0x7f202e1cda50>"
            ]
          },
          "metadata": {},
          "execution_count": 5
        },
        {
          "output_type": "display_data",
          "data": {
            "text/plain": [
              "<Figure size 1440x1080 with 1 Axes>"
            ],
            "image/png": "[encoded data removed]"
          },
          "metadata": {}
        }
      ],
      "source": [
        "# class 별 데이터 수 확인\n",
        "import seaborn as sns\n",
        "sns.set(rc = {'figure.figsize':(20,15)})\n",
        "sns.countplot(data['label'])"
      ]
    },
    {
      "cell_type": "markdown",
      "source": [
        "- label에 해당하는 digit_3의 분포를 확인해보니 클래스 불균형 문제가 심각하다.\n",
        "- 분석법은 데이터의 균등분포를 가정하기에 이를 해결해주어야 한다. 또한 정확도가 높게 나오더라도 새로운 데이터에 대해선 쓸모없는 모델이 될 가능성이 높다.\n",
        "- 100개 중 라벨 1이 97개이고 라벨 2가 3개이면, 모든 라벨을 1로 예측해도 97%의 정확도가 나오기 때문이다.\n",
        "- 따라서 class에 weight를 주고 적은 수를 가진 라벨의 데이터를 SMOTE 기법을 사용하여 늘려주겠다."
      ],
      "metadata": {
        "id": "T12k2N2kT0qr"
      }
    },
    {
      "cell_type": "markdown",
      "metadata": {
        "id": "lVvPAFopBQeK"
      },
      "source": [
        "# 3. Preprocessing"
      ]
    },
    {
      "cell_type": "markdown",
      "source": [
        "## 1) Easy Data Augmentation"
      ],
      "metadata": {
        "id": "KkJ58lDUUdEt"
      }
    },
    {
      "cell_type": "code",
      "source": [
        "wordnet = {}\n",
        "with open(\"/content/drive/MyDrive/StatisticCompetition/wordnet.pickle\", \"rb\") as f:\n",
        "\twordnet = pickle.load(f)\n",
        "\n",
        "########################################################################\n",
        "# Synonym replacement\n",
        "# Replace n words in the sentence with synonyms from wordnet\n",
        "########################################################################\n",
        "def synonym_replacement(words, n):\n",
        "\tnew_words = words.copy()\n",
        "\trandom_word_list = list(set([word for word in words]))\n",
        "\trandom.shuffle(random_word_list)\n",
        "\tnum_replaced = 0\n",
        "\tfor random_word in random_word_list:\n",
        "\t\tsynonyms = get_synonyms(random_word)\n",
        "\t\tif len(synonyms) >= 1:\n",
        "\t\t\tsynonym = random.choice(list(synonyms))\n",
        "\t\t\tnew_words = [synonym if word == random_word else word for word in new_words]\n",
        "\t\t\tnum_replaced += 1\n",
        "\t\tif num_replaced >= n:\n",
        "\t\t\tbreak\n",
        "\n",
        "\tif len(new_words) != 0:\n",
        "\t\tsentence = ' '.join(new_words)\n",
        "\t\tnew_words = sentence.split(\" \")\n",
        "\n",
        "\telse:\n",
        "\t\tnew_words = \"\"\n",
        "\n",
        "\treturn new_words\n",
        "\n",
        "\n",
        "def get_synonyms(word):\n",
        "\tsynomyms = []\n",
        "\n",
        "\ttry:\n",
        "\t\tfor syn in wordnet[word]:\n",
        "\t\t\tfor s in syn:\n",
        "\t\t\t\tsynomyms.append(s)\n",
        "\texcept:\n",
        "\t\tpass\n",
        "\n",
        "\treturn synomyms\n",
        "\n",
        "########################################################################\n",
        "# Random deletion\n",
        "# Randomly delete words from the sentence with probability p\n",
        "########################################################################\n",
        "def random_deletion(words, p):\n",
        "\tif len(words) == 1:\n",
        "\t\treturn words\n",
        "\n",
        "\tnew_words = []\n",
        "\tfor word in words:\n",
        "\t\tr = random.uniform(0, 1)\n",
        "\t\tif r > p:\n",
        "\t\t\tnew_words.append(word)\n",
        "\n",
        "\tif len(new_words) == 0:\n",
        "\t\trand_int = random.randint(0, len(words)-1)\n",
        "\t\treturn [words[rand_int]]\n",
        "\n",
        "\treturn new_words\n",
        "\n",
        "########################################################################\n",
        "# Random swap\n",
        "# Randomly swap two words in the sentence n times\n",
        "########################################################################\n",
        "def random_swap(words, n):\n",
        "\tnew_words = words.copy()\n",
        "\tfor _ in range(n):\n",
        "\t\tnew_words = swap_word(new_words)\n",
        "\n",
        "\treturn new_words\n",
        "\n",
        "def swap_word(new_words):\n",
        "\trandom_idx_1 = random.randint(0, len(new_words)-1)\n",
        "\trandom_idx_2 = random_idx_1\n",
        "\tcounter = 0\n",
        "\n",
        "\twhile random_idx_2 == random_idx_1:\n",
        "\t\trandom_idx_2 = random.randint(0, len(new_words)-1)\n",
        "\t\tcounter += 1\n",
        "\t\tif counter > 3:\n",
        "\t\t\treturn new_words\n",
        "\n",
        "\tnew_words[random_idx_1], new_words[random_idx_2] = new_words[random_idx_2], new_words[random_idx_1]\n",
        "\treturn new_words\n",
        "\n",
        "########################################################################\n",
        "# Random insertion\n",
        "# Randomly insert n words into the sentence\n",
        "########################################################################\n",
        "def random_insertion(words, n):\n",
        "\tnew_words = words.copy()\n",
        "\tfor _ in range(n):\n",
        "\t\tadd_word(new_words)\n",
        "\t\n",
        "\treturn new_words\n",
        "\n",
        "\n",
        "def add_word(new_words):\n",
        "\tsynonyms = []\n",
        "\tcounter = 0\n",
        "\twhile len(synonyms) < 1:\n",
        "\t\tif len(new_words) >= 1:\n",
        "\t\t\trandom_word = new_words[random.randint(0, len(new_words)-1)]\n",
        "\t\t\tsynonyms = get_synonyms(random_word)\n",
        "\t\t\tcounter += 1\n",
        "\t\telse:\n",
        "\t\t\trandom_word = \"\"\n",
        "\n",
        "\t\tif counter >= 10:\n",
        "\t\t\treturn\n",
        "\t\t\n",
        "\trandom_synonym = synonyms[0]\n",
        "\trandom_idx = random.randint(0, len(new_words)-1)\n",
        "\tnew_words.insert(random_idx, random_synonym)\n",
        "\n",
        "########################################################################\n",
        "# EDA\n",
        "########################################################################\n",
        "\n",
        "def EDA(sentence, alpha_sr=0.1, alpha_rs=0.1, p_rd=0.1, num_aug=4):  \n",
        "\twords = sentence.split(' ')\n",
        "\twords = [word for word in words if word is not \"\"]\n",
        "\tnum_words = len(words)\n",
        "\n",
        "\taugmented_sentences = []\n",
        "\tnum_new_per_technique = int(num_aug/3) + 1\n",
        "\n",
        "\tn_sr = max(1, int(alpha_sr*num_words))\n",
        "\tn_rs = max(1, int(alpha_rs*num_words))\n",
        " \n",
        "\t# sr\n",
        "\tfor _ in range(num_new_per_technique):\n",
        "\t\ta_words = synonym_replacement(words, n_sr)\n",
        "\t\taugmented_sentences.append(' '.join(a_words))\n",
        "  \n",
        "\t# rs\n",
        "\tfor _ in range(num_new_per_technique):\n",
        "\t\ta_words = random_swap(words, n_rs)\n",
        "\t\taugmented_sentences.append(\" \".join(a_words))\n",
        "\n",
        "\t# rd\n",
        "\tfor _ in range(num_new_per_technique):\n",
        "\t\ta_words = random_deletion(words, p_rd)\n",
        "\t\taugmented_sentences.append(\" \".join(a_words))\n",
        "\n",
        "\taugmented_sentences = [sentence for sentence in augmented_sentences]\n",
        "\trandom.shuffle(augmented_sentences)\n",
        "\n",
        "\tif num_aug >= 1:\n",
        "\t\taugmented_sentences = augmented_sentences[:num_aug]\n",
        "\telse:\n",
        "\t\tkeep_prob = num_aug / len(augmented_sentences)\n",
        "\t\taugmented_sentences = [s for s in augmented_sentences if random.uniform(0, 1) < keep_prob]\n",
        "\n",
        "\taugmented_sentences.append(sentence)\n",
        "\n",
        "\treturn augmented_sentences"
      ],
      "metadata": {
        "id": "3hW5b4JkUj7B"
      },
      "execution_count": null,
      "outputs": []
    },
    {
      "cell_type": "code",
      "source": [
        "# 500개 이하인 라벨 데이터만 가져오기 \n",
        "df = pd.DataFrame(data['label'].value_counts() <= 500)          \n",
        "idx = df[df['label'] == True].index.tolist()\n",
        "df_2 = data[data['label'].isin(idx)]\n",
        "\n",
        "# result 리스트에 라벨 당 3개의 추가적인 문장 생성\n",
        "result = []\n",
        "for i in tqdm(range(len(df_2))):\n",
        "    result.append(EDA(df_2.document.iloc[i]))  \n",
        "\n",
        "# 데이터프레임으로 변경\n",
        "add_data = pd.DataFrame(columns=['document'])\n",
        "for i in range(len(result)):\n",
        "    add_data = add_data.append(pd.DataFrame(result[i], columns=['document']))\n",
        "\n",
        "# 순서쌍 가져와서 맞춰주기 \n",
        "digit_1 = []\n",
        "digit_2 = []\n",
        "labelist = []\n",
        "\n",
        "idx_list = df_2['label'].tolist()\n",
        "for i in range(len(idx_list)):\n",
        "    index_1 = data[data['label'] == idx_list[i]][:1]['digit_1']\n",
        "    digit_1.append(np.repeat(index_1,5))\n",
        "\n",
        "    index_2 = data[data['label'] == idx_list[i]][:1]['digit_2']\n",
        "    digit_2.append(np.repeat(index_2,5))\n",
        "\n",
        "    labelist.append(np.repeat(idx_list[i],5))\n",
        "\n",
        "digit_1_data = pd.DataFrame(np.array(digit_1).flatten().tolist(), columns=['digit_1'])\n",
        "digit_2_data = pd.DataFrame(np.array(digit_2).flatten().tolist(), columns=['digit_2'])\n",
        "labelist_data = pd.DataFrame(np.array(labelist).flatten().tolist(), columns=['label'])\n",
        "\n",
        "add_data.reset_index(inplace=True, drop=True)\n",
        "adding = pd.concat([digit_1_data, digit_2_data, labelist_data, add_data], axis=1)\n",
        "print(adding)\n",
        "\n",
        "# 원본 데이터에 붙이기\n",
        "data = data.append(adding, ignore_index=True)\n",
        "print(data)     # 총 74,300개의 데이터 증강을 완료하였다."
      ],
      "metadata": {
        "id": "THAs3y0HVXgw",
        "colab": {
          "base_uri": "https://localhost:8080/"
        },
        "outputId": "a9ea4a1e-dac6-4c2e-916c-7bc027f67259"
      },
      "execution_count": null,
      "outputs": [
        {
          "output_type": "stream",
          "name": "stderr",
          "text": [
            "100%|██████████| 14860/14860 [00:01<00:00, 13818.48it/s]\n"
          ]
        },
        {
          "output_type": "stream",
          "name": "stdout",
          "text": [
            "      digit_1  digit_2  label                    document\n",
            "0           C       20    203   님박, 골분, 어분 각종 혼합.발효 비료 제조\n",
            "1           C       20    203   혼합.발효 골분, 어분 님박, 각종 비료 제조\n",
            "2           C       20    203    님박, 골분, 어분 혼합.발효 각종 거 제조\n",
            "3           C       20    203   님박, 골분, 어분 혼합.발효 각종 비료 제조\n",
            "4           C       20    203  님박, 골분, 어분 혼합.발효 각종 비료  제조\n",
            "...       ...      ...    ...                         ...\n",
            "74295       J       59    592                     녹음시설운영업\n",
            "74296       J       59    592                     녹음시설운영업\n",
            "74297       J       59    592                     녹음시설운영업\n",
            "74298       J       59    592                     녹음시설운영업\n",
            "74299       J       59    592                    녹음시설운영업 \n",
            "\n",
            "[74300 rows x 4 columns]\n",
            "        digit_1  digit_2  label                     document\n",
            "0             S       95    952        카센터에서 자동차부분정비 타이어오일교환\n",
            "1             G       47    472      상점내에서 일반인을 대상으로 채소.과일판매\n",
            "2             G       46    467  절단하여사업체에도매 공업용고무를가지고 합성고무도매\n",
            "3             G       47    475         영업점에서 일반소비자에게 열쇠잠금장치\n",
            "4             Q       87    872     어린이집 보호자의 위탁을 받아 취학전아동보육\n",
            "...         ...      ...    ...                          ...\n",
            "1074295       J       59    592                      녹음시설운영업\n",
            "1074296       J       59    592                      녹음시설운영업\n",
            "1074297       J       59    592                      녹음시설운영업\n",
            "1074298       J       59    592                      녹음시설운영업\n",
            "1074299       J       59    592                     녹음시설운영업 \n",
            "\n",
            "[1074300 rows x 4 columns]\n"
          ]
        }
      ]
    },
    {
      "cell_type": "markdown",
      "source": [
        "## 2) Tokenizing"
      ],
      "metadata": {
        "id": "Ot4NsgpKUkIx"
      }
    },
    {
      "cell_type": "code",
      "execution_count": null,
      "metadata": {
        "id": "hSyRsnhXBCZJ"
      },
      "outputs": [],
      "source": [
        "# train, test셋 분리\n",
        "X_train, X_test, label_train, label_test = train_test_split(data['document'], data['label'], test_size=0.1, random_state=42, stratify=data['label'])\n",
        "\n",
        "stop_words = pd.read_table('/content/drive/MyDrive/StatisticCompetition/Korean_stopwords.txt',sep='\\n')\n",
        "stop_word = stop_words.values\n",
        "okt = Okt()\n",
        "\n",
        "def preprocessing(text, okt, remove_stopwords=False, stop_words=[]):\n",
        "    # text : 전처리할 텍스트\n",
        "    # okt : 객체 반복생성하지 않고 미리 생성한 후 인자로 받는다.\n",
        "    # remove_stopword : 불용어 제거 여부, default는 False\n",
        "    # stop_word : 불용어 사전\n",
        "\n",
        "    text_text = re.sub(\"[^가-힣ㄱ-ㅎㅏ-ㅣ\\\\s]\", \"\", text)  # 한글, 공백 제외 문자 모두 제거 \n",
        "    word_text = okt.morphs(text_text)                       # okt 객체 활용, 형태소 단위로 나누기 \n",
        "    if remove_stopwords == True:\n",
        "        word_texts = [token for token in word_text if not token in stop_words]\n",
        "\n",
        "    return word_texts"
      ]
    },
    {
      "cell_type": "code",
      "execution_count": null,
      "metadata": {
        "id": "VF2fXScTBv6l",
        "colab": {
          "base_uri": "https://localhost:8080/"
        },
        "outputId": "c43f8972-710e-4702-f251-251973e58a11"
      },
      "outputs": [
        {
          "output_type": "stream",
          "name": "stderr",
          "text": [
            "100%|██████████| 966870/966870 [1:37:40<00:00, 164.99it/s]\n"
          ]
        },
        {
          "output_type": "execute_result",
          "data": {
            "text/plain": [
              "[['인터넷', '신문', '인터넷', '뉴스', '인', '뉴스'],\n",
              " ['개인', '택시', '일반인', '대상', '승객', '운송', '서비스'],\n",
              " ['사무실', '업체', '기관', '산학', '협력', '지원', '서비스'],\n",
              " ['식당', '접객', '시설', '갖추고', '소', '돼지고기', '구이']]"
            ]
          },
          "metadata": {},
          "execution_count": 10
        }
      ],
      "source": [
        "clean_train_text = []\n",
        "for text in tqdm(X_train):\n",
        "    clean_train_text.append(preprocessing(text, okt, remove_stopwords=True,stop_words=stop_word))\n",
        "\n",
        "clean_train_text[:4]"
      ]
    },
    {
      "cell_type": "code",
      "execution_count": null,
      "metadata": {
        "id": "TnbitT1Kw6Yr",
        "colab": {
          "base_uri": "https://localhost:8080/"
        },
        "outputId": "1624d9ff-755e-4836-f22a-5dc2d8517fac"
      },
      "outputs": [
        {
          "output_type": "stream",
          "name": "stderr",
          "text": [
            "100%|██████████| 107430/107430 [14:56<00:00, 119.81it/s]\n"
          ]
        },
        {
          "output_type": "execute_result",
          "data": {
            "text/plain": [
              "[['건설', '현장', '조', '경', '시설', '시공', '시공'],\n",
              " ['연구실', '물리', '화학생물학', '연구', '결과', '제공'],\n",
              " ['유리', '사업', '장', '박판', '유리', '보호', '코팅', '제품'],\n",
              " ['사업', '장', '유해', '폐기물', '소각', '장', '소', '지정', '폐기물', '처리']]"
            ]
          },
          "metadata": {},
          "execution_count": 11
        }
      ],
      "source": [
        "clean_test_text = []\n",
        "for text in tqdm(X_test):\n",
        "        clean_test_text.append(preprocessing(text, okt, remove_stopwords=True,stop_words=stop_word))\n",
        "\n",
        "clean_test_text[:4]"
      ]
    },
    {
      "cell_type": "code",
      "execution_count": null,
      "metadata": {
        "id": "zGqBwADQvrJH",
        "colab": {
          "base_uri": "https://localhost:8080/"
        },
        "outputId": "64c21af4-c8d5-462d-8f0e-0f86a7ffbcf7"
      },
      "outputs": [
        {
          "output_type": "execute_result",
          "data": {
            "text/plain": [
              "[['치킨', '전문점', '고객', '주문', '에의', '해', '치킨', '판매'],\n",
              " ['산업', '공구', '소매업자', '철물', '공구'],\n",
              " ['절', '신도을', '대상', '불교', '단체', '운영'],\n",
              " ['영업', '장', '고객', '요구', '자동차튜닝'],\n",
              " ['실내', '포장마차', '접객', '시설', '갖추고', '소주', '맥주', '제공']]"
            ]
          },
          "metadata": {},
          "execution_count": 13
        }
      ],
      "source": [
        "clean_submit_text = []\n",
        "for text in tqdm(submit['document']):\n",
        "        clean_submit_text.append(preprocessing(text, okt, remove_stopwords=True,stop_words=stop_word))\n",
        "\n",
        "clean_submit_text[:5]"
      ]
    },
    {
      "cell_type": "code",
      "execution_count": null,
      "metadata": {
        "id": "G_LvLjnmxVr-",
        "colab": {
          "base_uri": "https://localhost:8080/",
          "height": 53
        },
        "outputId": "063e5e98-cd9f-43c2-b7bf-069225e62e41"
      },
      "outputs": [
        {
          "output_type": "execute_result",
          "data": {
            "text/plain": [
              "' max_length 확인법\\nwow = []\\nfor i in range(len(train_sequences)):\\n    wow.append(len(train_sequences[i]))\\nmax(wow)\\n'"
            ],
            "application/vnd.google.colaboratory.intrinsic+json": {
              "type": "string"
            }
          },
          "metadata": {},
          "execution_count": 37
        }
      ],
      "source": [
        "tokenizer = Tokenizer()\n",
        "tokenizer.fit_on_texts(clean_train_text)\n",
        "tokenizer.fit_on_texts(clean_test_text)\n",
        "tokenizer.fit_on_texts(clean_submit_text)\n",
        "\n",
        "train_sequences = tokenizer.texts_to_sequences(clean_train_text)\n",
        "test_sequences = tokenizer.texts_to_sequences(clean_test_text)\n",
        "submit_sequences = tokenizer.texts_to_sequences(clean_submit_text)\n",
        "\n",
        "word_vocab = tokenizer.word_index # 단어 사전 형태, vocab_size = 39990 + 1 = 39991\n",
        "# len(tokenizer.word_index)\n",
        "\n",
        "MAX_SEQUENCE_LENGTH = 30\n",
        "\n",
        "train_input = pad_sequences(train_sequences, maxlen=MAX_SEQUENCE_LENGTH, padding='post')      # 학습 데이터 벡터화\n",
        "train_label = np.array(label_train)                                                           # 학습 데이터 라벨 \n",
        "test_input = pad_sequences(test_sequences, maxlen=MAX_SEQUENCE_LENGTH, padding='post')        # 평가 데이터 벡터화\n",
        "test_label = np.array(label_test)                                                             # 평가 데이터 라벨 \n",
        "submit_input = pad_sequences(submit_sequences, maxlen=MAX_SEQUENCE_LENGTH, padding='post')    # submit 데이터 벡터화\n",
        "\n",
        "''' max_length 확인법\n",
        "wow = []\n",
        "for i in range(len(train_sequences)):\n",
        "    wow.append(len(train_sequences[i]))\n",
        "max(wow)\n",
        "'''"
      ]
    },
    {
      "cell_type": "markdown",
      "metadata": {
        "id": "g48Bv1haCGoC"
      },
      "source": [
        "# 4. modeling"
      ]
    },
    {
      "cell_type": "markdown",
      "metadata": {
        "id": "itFXDwvq_Tok"
      },
      "source": [
        "## 1) 데이터 불균형 해소 -  class_weight"
      ]
    },
    {
      "cell_type": "code",
      "source": [
        "# 데이터 로드\n",
        "DATA_IN_PATH = '/content/drive/MyDrive/StatisticCompetition/oktmorphs/'\n",
        "INPUT_TRAIN_DATA = 'nsmc_train_input.npy'\n",
        "LABEL_TRAIN_DATA = 'nsmc_train_label.npy'\n",
        "DATA_CONFIGS = 'data_configs.json'\n",
        "\n",
        "train_input = np.load(open(DATA_IN_PATH + INPUT_TRAIN_DATA, 'rb'))\n",
        "train_label = np.load(open(DATA_IN_PATH + LABEL_TRAIN_DATA, 'rb'))\n",
        "\n",
        "prepro_configs = json.load(open(DATA_IN_PATH + DATA_CONFIGS, 'r'))"
      ],
      "metadata": {
        "id": "U2BfX9_wYd2C"
      },
      "execution_count": null,
      "outputs": []
    },
    {
      "cell_type": "code",
      "execution_count": null,
      "metadata": {
        "id": "0kITsUuabHXj"
      },
      "outputs": [],
      "source": [
        "# 클래스 별 가중치 생성 함수 \n",
        "def get_class_weights(labels, one_hot=False):\n",
        "        if one_hot is False:\n",
        "            n_classes = max(labels) + 1\n",
        "        else:\n",
        "            n_classes = len(labels[0])\n",
        "        class_counts = [0 for _ in range(int(n_classes))]\n",
        "        if one_hot is False:\n",
        "            for label in labels:\n",
        "                class_counts[label] += 1\n",
        "        else:\n",
        "            for label in labels:\n",
        "                class_counts[label.index(1)] += 1\n",
        "        return {i : (1. / class_counts[i]) * float(len(labels)) / float(n_classes) for i in range(int(n_classes))}\n",
        "\n",
        "\n",
        "cate_train_labels = np.array(pd.get_dummies(train_label).values)      # 라벨 원-핫 인코딩\n",
        "\n",
        "listed_train_labels = cate_train_labels.tolist()                        # 인코딩 라벨 리스트로 변환(함수 이용 목적)\n",
        "class_weights = get_class_weights(listed_train_labels, one_hot=True)    # 클래스 별 weight 생성 "
      ]
    },
    {
      "cell_type": "markdown",
      "metadata": {
        "id": "tDkoRCzMbH9Y"
      },
      "source": [
        "## 2) 데이터 분리"
      ]
    },
    {
      "cell_type": "code",
      "execution_count": null,
      "metadata": {
        "id": "jV-cLEJseQTR",
        "colab": {
          "base_uri": "https://localhost:8080/"
        },
        "outputId": "1fbe1215-e930-47f8-b6e1-c83dd14712c6"
      },
      "outputs": [
        {
          "output_type": "stream",
          "name": "stderr",
          "text": [
            "100%|██████████| 4/4 [00:00<00:00, 41734.37it/s]\n"
          ]
        }
      ],
      "source": [
        "# train 셋에서 검증셋 분리 \n",
        "x_train, x_val, y_train, y_val = train_test_split(train_input,\n",
        "                                                  cate_train_labels,\n",
        "                                                  test_size=0.1,\n",
        "                                                  random_state=42, \n",
        "                                                  shuffle=True, \n",
        "                                                  stratify=cate_train_labels)"
      ]
    },
    {
      "cell_type": "markdown",
      "metadata": {
        "id": "NlDMApD4SqsT"
      },
      "source": [
        "## 3) 모델링 및 학습"
      ]
    },
    {
      "cell_type": "code",
      "source": [
        "# 데이터 로드 \n",
        "x_train = np.load('/content/drive/MyDrive/StatisticCompetition/oktmorphs/x_train.npy')\n",
        "x_val = np.load('/content/drive/MyDrive/StatisticCompetition/oktmorphs/x_val.npy')\n",
        "y_train = np.load('/content/drive/MyDrive/StatisticCompetition/oktmorphs/y_train.npy')\n",
        "y_val = np.load('/content/drive/MyDrive/StatisticCompetition/oktmorphs/y_val.npy')\n",
        "raw_data = pd.read_table('/content/drive/MyDrive/StatisticCompetition/train.txt',sep='|', encoding='cp949')"
      ],
      "metadata": {
        "id": "umun0vouXKdT"
      },
      "execution_count": null,
      "outputs": []
    },
    {
      "cell_type": "code",
      "source": [
        "# 하이퍼파라미터 설정\n",
        "initializer = tf.keras.initializers.HeNormal(seed=42)   # 가중치 초기화 설정 \n",
        "reduce_lr = tf.keras.callbacks.ReduceLROnPlateau(monitor='val_loss',  \n",
        "                                                 factor=0.2,         # callback 호출 시 lr 0.2 줄임 \n",
        "                                                 patience=5,         # 5 epoch 동안 변화 없을 시 callback 호출 3으로 줄여보장 대신 factor 0.3으로 \n",
        "                                                 min_delta = 0.01,   # 개선을 위한 최소 변화량 \n",
        "                                                 mode='auto',\n",
        "                                                 verbose=1)\n",
        "earlystop_callback = EarlyStopping(monitor='val_loss', min_delta=0.001, patience=7, restore_best_weights=True)   \n",
        "mc = ModelCheckpoint('/content/drive/MyDrive/StatisticCompetition/oktmorphs/best_model_4.h5', monitor='val_loss', mode='auto', save_best_only=True)\n",
        "act_func = tf.keras.layers.ELU(alpha=1.0)\n",
        "\n",
        "\n",
        "def create_model():\n",
        "    input = tf.keras.layers.Input(shape=(30,))   \n",
        "    net = tf.keras.layers.Embedding(input_dim=39991, output_dim=1024)(input)    \n",
        "\n",
        "    net = tf.keras.layers.Conv1D(filters=1024, kernel_size=3, strides=1, padding='same', activation=act_func)(net) \n",
        "    net = tf.keras.layers.BatchNormalization()(net)       # 약간의 드롭아웃 효과가 있음    \n",
        "    net = tf.keras.layers.GlobalMaxPooling1D()(net)\n",
        "\n",
        "    net = tf.keras.layers.Flatten()(net)  \n",
        "                                                    \n",
        "    net = tf.keras.layers.Dense(units=256, activation=act_func,kernel_initializer=initializer)(net)   # 가중치 초기화, 출력층의 노드 수보다 커야 병목현상이 안일어남. 동시에 오버피팅 방지를 위해 가능한 노드 수를 줄임.    \n",
        "    net = tf.keras.layers.Dropout(0.5)(net)             \n",
        "    net = tf.keras.layers.Dense(units=225, activation='softmax',kernel_regularizer=regularizers.l2(0.001))(net)              # 출력층, L2 규제 정규화                 \n",
        "    model = tf.keras.models.Model(input, net)                                                     \n",
        "\n",
        "    return model"
      ],
      "metadata": {
        "id": "895V6oiG0afI"
      },
      "execution_count": null,
      "outputs": []
    },
    {
      "cell_type": "code",
      "execution_count": null,
      "metadata": {
        "id": "DI4U6URxrfC6",
        "colab": {
          "base_uri": "https://localhost:8080/"
        },
        "outputId": "572db5b8-93fe-4cab-dd2b-34fc9e690d28"
      },
      "outputs": [
        {
          "output_type": "stream",
          "name": "stderr",
          "text": [
            "/usr/local/lib/python3.7/dist-packages/keras/optimizer_v2/adam.py:105: UserWarning: The `lr` argument is deprecated, use `learning_rate` instead.\n",
            "  super(Adam, self).__init__(name, **kwargs)\n"
          ]
        },
        {
          "output_type": "stream",
          "name": "stdout",
          "text": [
            "Epoch 1/200\n",
            "1700/1700 [==============================] - 78s 41ms/step - loss: 1.9621 - accuracy: 0.7192 - val_loss: 0.6990 - val_accuracy: 0.8613 - lr: 0.0010\n",
            "Epoch 2/200\n",
            "1700/1700 [==============================] - 63s 37ms/step - loss: 0.8569 - accuracy: 0.8405 - val_loss: 0.6469 - val_accuracy: 0.8659 - lr: 0.0010\n",
            "Epoch 3/200\n",
            "1700/1700 [==============================] - 61s 36ms/step - loss: 0.6707 - accuracy: 0.8596 - val_loss: 0.5577 - val_accuracy: 0.8822 - lr: 0.0010\n",
            "Epoch 4/200\n",
            "1700/1700 [==============================] - 60s 35ms/step - loss: 0.5922 - accuracy: 0.8705 - val_loss: 0.5186 - val_accuracy: 0.8899 - lr: 0.0010\n",
            "Epoch 5/200\n",
            "1700/1700 [==============================] - 56s 33ms/step - loss: 0.4993 - accuracy: 0.8851 - val_loss: 0.5307 - val_accuracy: 0.8892 - lr: 0.0010\n",
            "Epoch 6/200\n",
            "1700/1700 [==============================] - 58s 34ms/step - loss: 0.4548 - accuracy: 0.8909 - val_loss: 0.5141 - val_accuracy: 0.8911 - lr: 0.0010\n",
            "Epoch 7/200\n",
            "1700/1700 [==============================] - 60s 35ms/step - loss: 0.4206 - accuracy: 0.8969 - val_loss: 0.4995 - val_accuracy: 0.8951 - lr: 0.0010\n",
            "Epoch 8/200\n",
            "1700/1700 [==============================] - 62s 36ms/step - loss: 0.3801 - accuracy: 0.9031 - val_loss: 0.4964 - val_accuracy: 0.8949 - lr: 0.0010\n",
            "Epoch 9/200\n",
            "1700/1700 [==============================] - 62s 36ms/step - loss: 0.3540 - accuracy: 0.9087 - val_loss: 0.4855 - val_accuracy: 0.9005 - lr: 0.0010\n",
            "Epoch 10/200\n",
            "1700/1700 [==============================] - 55s 32ms/step - loss: 0.3534 - accuracy: 0.9091 - val_loss: 0.4932 - val_accuracy: 0.8976 - lr: 0.0010\n",
            "Epoch 11/200\n",
            "1700/1700 [==============================] - 54s 32ms/step - loss: 0.3450 - accuracy: 0.9114 - val_loss: 0.5113 - val_accuracy: 0.8939 - lr: 0.0010\n",
            "Epoch 12/200\n",
            "1700/1700 [==============================] - 58s 34ms/step - loss: 0.3617 - accuracy: 0.9098 - val_loss: 0.4800 - val_accuracy: 0.9026 - lr: 0.0010\n",
            "Epoch 13/200\n",
            "1700/1700 [==============================] - 55s 32ms/step - loss: 0.2738 - accuracy: 0.9226 - val_loss: 0.4880 - val_accuracy: 0.8991 - lr: 0.0010\n",
            "Epoch 14/200\n",
            "1699/1700 [============================>.] - ETA: 0s - loss: 0.3351 - accuracy: 0.9173\n",
            "Epoch 14: ReduceLROnPlateau reducing learning rate to 0.00020000000949949026.\n",
            "1700/1700 [==============================] - 55s 32ms/step - loss: 0.3351 - accuracy: 0.9173 - val_loss: 0.4893 - val_accuracy: 0.9021 - lr: 0.0010\n",
            "Epoch 15/200\n",
            "1700/1700 [==============================] - 58s 34ms/step - loss: 0.2180 - accuracy: 0.9365 - val_loss: 0.4392 - val_accuracy: 0.9107 - lr: 2.0000e-04\n",
            "Epoch 16/200\n",
            "1700/1700 [==============================] - 62s 37ms/step - loss: 0.1828 - accuracy: 0.9425 - val_loss: 0.4239 - val_accuracy: 0.9122 - lr: 2.0000e-04\n",
            "Epoch 17/200\n",
            "1700/1700 [==============================] - 61s 36ms/step - loss: 0.1650 - accuracy: 0.9449 - val_loss: 0.4177 - val_accuracy: 0.9135 - lr: 2.0000e-04\n",
            "Epoch 18/200\n",
            "1700/1700 [==============================] - 60s 36ms/step - loss: 0.1541 - accuracy: 0.9477 - val_loss: 0.4152 - val_accuracy: 0.9135 - lr: 2.0000e-04\n",
            "Epoch 19/200\n",
            "1700/1700 [==============================] - 57s 33ms/step - loss: 0.1440 - accuracy: 0.9489 - val_loss: 0.4158 - val_accuracy: 0.9141 - lr: 2.0000e-04\n",
            "Epoch 20/200\n",
            "1700/1700 [==============================] - 54s 32ms/step - loss: 0.1347 - accuracy: 0.9507 - val_loss: 0.4157 - val_accuracy: 0.9137 - lr: 2.0000e-04\n",
            "Epoch 21/200\n",
            "1699/1700 [============================>.] - ETA: 0s - loss: 0.1285 - accuracy: 0.9516\n",
            "Epoch 21: ReduceLROnPlateau reducing learning rate to 4.0000001899898055e-05.\n",
            "1700/1700 [==============================] - 54s 32ms/step - loss: 0.1285 - accuracy: 0.9516 - val_loss: 0.4172 - val_accuracy: 0.9148 - lr: 2.0000e-04\n",
            "Epoch 22/200\n",
            "1700/1700 [==============================] - 58s 34ms/step - loss: 0.1156 - accuracy: 0.9562 - val_loss: 0.4146 - val_accuracy: 0.9153 - lr: 4.0000e-05\n",
            "Epoch 23/200\n",
            "1700/1700 [==============================] - 56s 33ms/step - loss: 0.1119 - accuracy: 0.9569 - val_loss: 0.4152 - val_accuracy: 0.9155 - lr: 4.0000e-05\n",
            "Epoch 24/200\n",
            "1700/1700 [==============================] - 54s 32ms/step - loss: 0.1074 - accuracy: 0.9575 - val_loss: 0.4147 - val_accuracy: 0.9156 - lr: 4.0000e-05\n",
            "Epoch 25/200\n",
            "1700/1700 [==============================] - 56s 33ms/step - loss: 0.1048 - accuracy: 0.9579 - val_loss: 0.4161 - val_accuracy: 0.9157 - lr: 4.0000e-05\n"
          ]
        }
      ],
      "source": [
        "opt = tf.keras.optimizers.Adam(lr=0.001)\n",
        "with tpu_strategy.scope():\n",
        "    model = create_model()\n",
        "\n",
        "    model.compile(loss='categorical_crossentropy',\n",
        "              optimizer=opt,  \n",
        "              metrics=['accuracy'])\n",
        "    \n",
        "    history = model.fit(x_train, y_train, \n",
        "                    epochs=200,\n",
        "                    validation_data=(x_val,y_val),\n",
        "                    batch_size=512,                     \n",
        "                    callbacks=[mc, reduce_lr, earlystop_callback],\n",
        "                    class_weight = class_weights)"
      ]
    },
    {
      "cell_type": "markdown",
      "source": [
        "## 4) 학습 곡선 확인 및 test셋 검증"
      ],
      "metadata": {
        "id": "lfaB2PG9Ljmx"
      }
    },
    {
      "cell_type": "code",
      "execution_count": null,
      "metadata": {
        "id": "GJkXh4LBCS9M"
      },
      "outputs": [],
      "source": [
        "# 모델 학습 후 정보가 담긴 history 내용을 토대로 선 그래프를 그리는 함수 설정\n",
        "\n",
        "def plot_acc(history, title=None):        # Accuracy(정확도) Visualization\n",
        "    # summarize history for accuracy\n",
        "    if not isinstance(history, dict):\n",
        "        history = history.history\n",
        "\n",
        "    plt.plot(history['accuracy'])        # accuracy\n",
        "    plt.plot(history['val_accuracy'])    # validation accuracy\n",
        "    if title is not None:\n",
        "        plt.title(title)\n",
        "    plt.ylabel('Accracy')\n",
        "    plt.xlabel('Epoch')\n",
        "    plt.legend(['Training data', 'Validation data'], loc=0)\n",
        "    # plt.show()\n",
        "\n",
        "def plot_loss(history, title=None):     # Loss Visualization\n",
        "    # summarize history for loss\n",
        "    if not isinstance(history, dict):\n",
        "        history = history.history\n",
        "\n",
        "    plt.plot(history['loss'])           # loss\n",
        "    plt.plot(history['val_loss'])       # validation\n",
        "    if title is not None:\n",
        "        plt.title(title)\n",
        "    plt.ylabel('Loss')\n",
        "    plt.xlabel('Epoch')\n",
        "    plt.legend(['Training data', 'Validation data'], loc=0)\n",
        "    # plt.show()"
      ]
    },
    {
      "cell_type": "code",
      "execution_count": null,
      "metadata": {
        "id": "67-fwPF4Csbw",
        "colab": {
          "base_uri": "https://localhost:8080/",
          "height": 1000
        },
        "outputId": "eeb70676-b8d7-428d-d483-ac3ec0452916"
      },
      "outputs": [
        {
          "output_type": "display_data",
          "data": {
            "text/plain": [
              "<Figure size 1440x1080 with 1 Axes>"
            ],
            "image/png": "[encoded data removed]"
          },
          "metadata": {}
        },
        {
          "output_type": "display_data",
          "data": {
            "text/plain": [
              "<Figure size 1440x1080 with 1 Axes>"
            ],
            "image/png": "[encoded data removed]"
          },
          "metadata": {}
        }
      ],
      "source": [
        "plot_acc(history, '(a) Accuracy')  # 학습 경과에 따른 정확도 변화 추이\n",
        "plt.show()\n",
        "plot_loss(history, '(b) Loss')     # 학습 경과에 따른 손실값 변화 추이\n",
        "plt.show()"
      ]
    },
    {
      "cell_type": "code",
      "source": [
        "# test셋으로 확인해보기 \n",
        "# test 데이터 불러오기\n",
        "DATA_IN_PATH = '/content/drive/MyDrive/StatisticCompetition/oktmorphs/'\n",
        "INPUT_TEST_DATA = 'nsmc_test_input.npy'\n",
        "LABEL_TEST_DATA = 'nsmc_test_label.npy'\n",
        "SAVE_FILE_NM = 'weights.h5' #저장된 best model 이름\n",
        "test_input = np.load(open(DATA_IN_PATH + INPUT_TEST_DATA, 'rb'))\n",
        "test_input = pad_sequences(test_input, maxlen=test_input.shape[1])\n",
        "test_label = np.load(open(DATA_IN_PATH + LABEL_TEST_DATA, 'rb'))"
      ],
      "metadata": {
        "id": "EAVL7TwnIA1y"
      },
      "execution_count": null,
      "outputs": []
    },
    {
      "cell_type": "code",
      "execution_count": null,
      "metadata": {
        "id": "t5DWjT3QyDYx",
        "colab": {
          "base_uri": "https://localhost:8080/"
        },
        "outputId": "5af36ccb-af46-425c-c0f6-fdb2562e1878"
      },
      "outputs": [
        {
          "output_type": "stream",
          "name": "stdout",
          "text": [
            "macro  0.8586710180048754\n"
          ]
        }
      ],
      "source": [
        "cate_y_test = np.array(pd.get_dummies(test_label).values)\n",
        "# best_model 불러오기\n",
        "from tensorflow.keras.models import load_model\n",
        "model_saved = load_model('/content/drive/MyDrive/StatisticCompetition/oktmorphs/best_model_4.h5')\n",
        "\n",
        "# 라벨 인덱스 구하기 \n",
        "labels = pd.DataFrame(test_label)\n",
        "sorted_labels = np.sort(labels[0].unique())  # 정렬된 라벨들 225개 \n",
        "len(sorted_labels)\n",
        "# test셋에 대한 예측 \n",
        "y_predict = model_saved.predict(test_input)\n",
        "final_label = []    # 예측한 라벨\n",
        "\n",
        "for i in range(len(y_predict)):\n",
        "    index = sorted_labels[y_predict[i].argmax()]\n",
        "    index2 = y_predict[i][y_predict[i].argmax()]\n",
        "    final_label.append(index)\n",
        "\n",
        "from sklearn.metrics import f1_score\n",
        "print('macro ', f1_score(test_label, final_label, average='macro'))"
      ]
    },
    {
      "cell_type": "markdown",
      "source": [
        "## 5) 제출"
      ],
      "metadata": {
        "id": "bXwkIM5JWjSy"
      }
    },
    {
      "cell_type": "code",
      "source": [
        "# 제출\n",
        "DATA_IN_PATH = '/content/drive/MyDrive/StatisticCompetition/oktmorphs/'\n",
        "INPUT_SUBMIT_DATA = 'nsmc_submit_input.npy'\n",
        "submit_input = np.load(open(DATA_IN_PATH + INPUT_SUBMIT_DATA, 'rb'))"
      ],
      "metadata": {
        "id": "UScEGehucTPS"
      },
      "execution_count": null,
      "outputs": []
    },
    {
      "cell_type": "code",
      "execution_count": null,
      "metadata": {
        "id": "rktgAajzx251"
      },
      "outputs": [],
      "source": [
        "# 라벨 인덱스 구하기 \n",
        "labels = pd.DataFrame(train_input)\n",
        "sorted_labels = np.sort(labels[0].unique())  # 정렬된 라벨들 225개 \n",
        "\n",
        "# submit용 예측하기 \n",
        "submit_predict = model_saved.predict(submit_input)\n",
        "submit_label = []                                   # 제출용 라벨\n",
        "for i in range(len(submit_predict)):\n",
        "    index = sorted_labels[submit_predict[i].argmax()]\n",
        "    submit_label.append(index)\n",
        "\n",
        "\n",
        "# 제출 파일 작성 \n",
        "submission_file = pd.read_csv('/content/drive/MyDrive/StatisticCompetition/답안 작성용 파일.csv', encoding = 'cp949')\n",
        "submission_file['digit_3'] = submit_label\n",
        "sequences = raw_data[['digit_1', 'digit_2', 'digit_3']]\n",
        "sequences = sequences.drop_duplicates()                      # 순서쌍 가져오기 \n",
        "final = pd.merge(submission_file, sequences, on='digit_3', how = 'left')\n",
        "final = final.drop(['digit_1_x', 'digit_2_x'], axis=1)\n",
        "final.rename(columns={'digit_1_y':'digit_1',\n",
        "                      'digit_2_y': 'digit_2'}, inplace=True)\n",
        "final = final[['AI_id', 'digit_1', 'digit_2', 'digit_3', 'text_obj', 'text_mthd', 'text_deal']]\n",
        "final.to_csv('/content/drive/MyDrive/StatisticCompetition/oktmorphs/submission.csv', encoding='cp949', index=False)\n",
        "print(final)"
      ]
    },
    {
      "cell_type": "markdown",
      "source": [
        "# 5. References\n",
        "- https://yeomko.tistory.com/39\n",
        "- https://github.com/catSirup/KorEDA/tree/master\n",
        "- http://www.smartdesignlab.org/DL/%EC%8B%A0%EA%B8%B0%EC%88%A0/CNN(sequential)_model_fit.html\n",
        "- https://datascience.stackexchange.com/questions/13490/how-to-set-class-weights-for-imbalanced-classes-in-keras\n",
        "- (텐서플로2와 머신러닝으로 시작하는) 자연어 처리 : 로지스틱 회귀부터 BERT와 GPT2까지 / 전창욱 / 2020 / 위키북스\n",
        "- 한국어 임베딩 : 자연어 처리 모델의 성능을 높이는 핵심 비결 Word2Vec에서 ELMo, BERT까지 / 이기창 / 2019 / 에이콘출판"
      ],
      "metadata": {
        "id": "gfcKFvXkYFOe"
      }
    },
    {
      "cell_type": "code",
      "source": [
        "print(pd.read_csv('/content/drive/MyDrive/StatisticCompetition/submission_kfold_1.csv', encoding='cp949'))"
      ],
      "metadata": {
        "colab": {
          "base_uri": "https://localhost:8080/"
        },
        "id": "M9--Azr2LTEd",
        "outputId": "8087b9e5-eaa5-4c5c-d563-772ead18a85d"
      },
      "execution_count": null,
      "outputs": [
        {
          "output_type": "stream",
          "name": "stdout",
          "text": [
            "           AI_id digit_1  digit_2  digit_3  text_obj   text_mthd text_deal\n",
            "0      id_000001       I       56      561   치킨전문점에서    고객의주문에의해      치킨판매\n",
            "1      id_000002       G       47      475      산업공구   다른 소매업자에게    철물 수공구\n",
            "2      id_000003       S       94      949       절에서    신도을 대상으로    불교단체운영\n",
            "3      id_000004       S       96      961     영업장에서       고객요구로     자동차튜닝\n",
            "4      id_000005       I       56      562  실내포장마차에서   접객시설을 갖추고   소주,맥주제공\n",
            "...          ...     ...      ...      ...       ...         ...       ...\n",
            "99995  id_099996       A        1       11     사업장에서     일반인대상으로      버섯농장\n",
            "99996  id_099997       Q       86      862     한의원에서     외래환자위주고        치료\n",
            "99997  id_099998       G       47      478    일반점포에서       소비자에게      그림판매\n",
            "99998  id_099999       R       90      902     사업장에서  일반인.학생대상으로    학습공간제공\n",
            "99999  id_100000       L       68      682     사업장에서    대리현대아파트를        관리\n",
            "\n",
            "[100000 rows x 7 columns]\n"
          ]
        }
      ]
    }
  ],
  "metadata": {
    "accelerator": "TPU",
    "colab": {
      "collapsed_sections": [],
      "machine_shape": "hm",
      "name": "최종.ipynb",
      "provenance": [],
      "mount_file_id": "1NCKnbB0Bh7swh2hg-Gi_qFnttAvGAxV1",
      "authorship_tag": "ABX9TyNXf5aQzpXUqojc8GUZRI9i",
      "include_colab_link": true
    },
    "kernelspec": {
      "display_name": "Python 3",
      "name": "python3"
    },
    "language_info": {
      "name": "python"
    }
  },
  "nbformat": 4,
  "nbformat_minor": 0
}